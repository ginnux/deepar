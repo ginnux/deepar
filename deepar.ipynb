{
 "cells": [
  {
   "cell_type": "markdown",
   "id": "29e1b7cd",
   "metadata": {},
   "source": [
    "# Quick Start Tutorial\n",
    "\n",
    "GluonTS contains:\n",
    "\n",
    "* A number of pre-built models\n",
    "* Components for building new models (likelihoods, feature processing pipelines, calendar features etc.)\n",
    "* Data loading and processing\n",
    "* Plotting and evaluation facilities\n",
    "* Artificial and real datasets (only external datasets with blessed license)"
   ]
  },
  {
   "cell_type": "code",
   "execution_count": 1,
   "id": "2a9e6444",
   "metadata": {},
   "outputs": [],
   "source": [
    "%matplotlib inline\n",
    "import numpy as np\n",
    "import pandas as pd\n",
    "import matplotlib.pyplot as plt\n",
    "import json"
   ]
  },
  {
   "cell_type": "code",
   "execution_count": 2,
   "id": "2d88b97f",
   "metadata": {},
   "outputs": [],
   "source": [
    "import ssl\n",
    "ssl._create_default_https_context = ssl._create_unverified_context"
   ]
  },
  {
   "cell_type": "code",
   "execution_count": 3,
   "id": "74bc2aea",
   "metadata": {},
   "outputs": [],
   "source": [
    "from logger import *"
   ]
  },
  {
   "cell_type": "code",
   "execution_count": 4,
   "id": "49f0e924",
   "metadata": {},
   "outputs": [
    {
     "name": "stdout",
     "output_type": "stream",
     "text": [
      "['times:1\\n', 'epochs:10\\n', 'dataset:traffic_nips\\n', 'timestamp:2024-04-16-23-41-39\\n']\n"
     ]
    }
   ],
   "source": [
    "config = {\n",
    "        \"epochs\": 10,\n",
    "        \"dataset\":\"traffic_nips\",\n",
    "}\n",
    "logger = Logger()\n",
    "\n",
    "exp_agent = Experiment_Agent(config=config)\n",
    "exp_agent.init_new_exp()\n",
    "exp_agent.run_exp(timestamp = logger.timestamp)"
   ]
  },
  {
   "cell_type": "markdown",
   "id": "6792d064",
   "metadata": {},
   "source": [
    "## Datasets\n",
    "\n",
    "### Provided datasets\n",
    "\n",
    "GluonTS comes with a number of publicly available datasets."
   ]
  },
  {
   "cell_type": "code",
   "execution_count": 5,
   "id": "8cc8f881",
   "metadata": {},
   "outputs": [
    {
     "name": "stderr",
     "output_type": "stream",
     "text": [
      "/root/miniconda3/lib/python3.8/site-packages/gluonts/json.py:101: UserWarning: Using `json`-module for json-handling. Consider installing one of `orjson`, `ujson` to speed up serialization and deserialization.\n",
      "  warnings.warn(\n"
     ]
    }
   ],
   "source": [
    "from gluonts.dataset.repository import get_dataset, dataset_names\n",
    "from gluonts.dataset.util import to_pandas"
   ]
  },
  {
   "cell_type": "code",
   "execution_count": 6,
   "id": "0b5d8db3",
   "metadata": {},
   "outputs": [
    {
     "name": "stdout",
     "output_type": "stream",
     "text": [
      "Available datasets: ['constant', 'exchange_rate', 'solar-energy', 'electricity', 'traffic', 'exchange_rate_nips', 'electricity_nips', 'traffic_nips', 'solar_nips', 'wiki2000_nips', 'wiki-rolling_nips', 'taxi_30min', 'kaggle_web_traffic_with_missing', 'kaggle_web_traffic_without_missing', 'kaggle_web_traffic_weekly', 'm1_yearly', 'm1_quarterly', 'm1_monthly', 'nn5_daily_with_missing', 'nn5_daily_without_missing', 'nn5_weekly', 'tourism_monthly', 'tourism_quarterly', 'tourism_yearly', 'cif_2016', 'london_smart_meters_without_missing', 'wind_farms_without_missing', 'car_parts_without_missing', 'dominick', 'fred_md', 'pedestrian_counts', 'hospital', 'covid_deaths', 'kdd_cup_2018_without_missing', 'weather', 'm3_monthly', 'm3_quarterly', 'm3_yearly', 'm3_other', 'm4_hourly', 'm4_daily', 'm4_weekly', 'm4_monthly', 'm4_quarterly', 'm4_yearly', 'm5', 'uber_tlc_daily', 'uber_tlc_hourly', 'airpassengers', 'australian_electricity_demand', 'electricity_hourly', 'electricity_weekly', 'rideshare_without_missing', 'saugeenday', 'solar_10_minutes', 'solar_weekly', 'sunspot_without_missing', 'temperature_rain_without_missing', 'vehicle_trips_without_missing']\n"
     ]
    }
   ],
   "source": [
    "print(f\"Available datasets: {dataset_names}\")"
   ]
  },
  {
   "cell_type": "markdown",
   "id": "ada3a866",
   "metadata": {},
   "source": [
    "To download one of the built-in datasets, simply call get_dataset with one of the above names. GluonTS can re-use the saved dataset so that it does not need to be downloaded again the next time around."
   ]
  },
  {
   "cell_type": "code",
   "execution_count": 7,
   "id": "5829260a",
   "metadata": {},
   "outputs": [],
   "source": [
    "dataset = get_dataset(config[\"dataset\"])"
   ]
  },
  {
   "cell_type": "markdown",
   "id": "eca546f5",
   "metadata": {},
   "source": [
    "## Training an existing model (`Estimator`)\n",
    "\n",
    "GluonTS comes with a number of pre-built models. All the user needs to do is configure some hyperparameters. The existing models focus on (but are not limited to) probabilistic forecasting. Probabilistic forecasts are predictions in the form of a probability distribution, rather than simply a single point estimate.\n",
    "\n",
    "We will begin with GluonTS's pre-built feedforward neural network estimator, a simple but powerful forecasting model. We will use this model to demonstrate the process of training a model, producing forecasts, and evaluating the results.\n",
    "\n",
    "GluonTS's built-in feedforward neural network (`SimpleFeedForwardEstimator`) accepts an input window of length `context_length` and predicts the distribution of the values of the subsequent `prediction_length` values. In GluonTS parlance, the feedforward neural network model is an example of an `Estimator`. In GluonTS, `Estimator` objects represent a forecasting model as well as details such as its coefficients, weights, etc.\n",
    "\n",
    "In general, each estimator (pre-built or custom) is configured by a number of hyperparameters that can be either common (but not binding) among all estimators (e.g., the `prediction_length`) or specific for the particular estimator (e.g., number of layers for a neural network or the stride in a CNN).\n",
    "\n",
    "Finally, each estimator is configured by a `Trainer`, which defines how the model will be trained i.e., the number of epochs, the learning rate, etc."
   ]
  },
  {
   "cell_type": "code",
   "execution_count": 8,
   "id": "daf60482",
   "metadata": {},
   "outputs": [],
   "source": [
    "# from gluonts.mx import SimpleFeedForwardEstimator, Trainer\n",
    "from gluonts.torch.model.deepar import DeepAREstimator"
   ]
  },
  {
   "cell_type": "code",
   "execution_count": 9,
   "id": "b5681c80",
   "metadata": {},
   "outputs": [],
   "source": [
    "'''\n",
    "estimator = SimpleFeedForwardEstimator(\n",
    "    num_hidden_dimensions=[10],\n",
    "    prediction_length=dataset.metadata.prediction_length,\n",
    "    context_length=100,\n",
    "    trainer=Trainer(ctx=\"cpu\", epochs=5, learning_rate=1e-3, num_batches_per_epoch=100),\n",
    ")\n",
    "'''\n",
    "estimator = DeepAREstimator(freq = dataset.metadata.freq, prediction_length=dataset.metadata.prediction_length,context_length=504,\n",
    "                           trainer_kwargs = {\"max_epochs\":config[\"epochs\"]})"
   ]
  },
  {
   "cell_type": "markdown",
   "id": "d7ff69db",
   "metadata": {},
   "source": [
    "After specifying our estimator with all the necessary hyperparameters we can train it using our training dataset `dataset.train` by invoking the `train` method of the estimator. The training algorithm returns a fitted model (or a `Predictor` in GluonTS parlance) that can be used to construct forecasts."
   ]
  },
  {
   "cell_type": "code",
   "execution_count": 10,
   "id": "46f42fec",
   "metadata": {},
   "outputs": [
    {
     "name": "stderr",
     "output_type": "stream",
     "text": [
      "INFO: GPU available: False, used: False\n",
      "INFO:lightning.pytorch.utilities.rank_zero:GPU available: False, used: False\n",
      "INFO: TPU available: False, using: 0 TPU cores\n",
      "INFO:lightning.pytorch.utilities.rank_zero:TPU available: False, using: 0 TPU cores\n",
      "INFO: IPU available: False, using: 0 IPUs\n",
      "INFO:lightning.pytorch.utilities.rank_zero:IPU available: False, using: 0 IPUs\n",
      "INFO: HPU available: False, using: 0 HPUs\n",
      "INFO:lightning.pytorch.utilities.rank_zero:HPU available: False, using: 0 HPUs\n",
      "/root/miniconda3/lib/python3.8/site-packages/lightning/pytorch/trainer/configuration_validator.py:74: You defined a `validation_step` but have no `val_dataloader`. Skipping val loop.\n",
      "INFO: \n",
      "  | Name  | Type        | Params | In sizes                                                         | Out sizes   \n",
      "------------------------------------------------------------------------------------------------------------------------\n",
      "0 | model | DeepARModel | 27.6 K | [[1, 1], [1, 1], [1, 1224, 5], [1, 1224], [1, 1224], [1, 24, 5]] | [1, 100, 24]\n",
      "------------------------------------------------------------------------------------------------------------------------\n",
      "27.6 K    Trainable params\n",
      "0         Non-trainable params\n",
      "27.6 K    Total params\n",
      "0.111     Total estimated model params size (MB)\n",
      "INFO:lightning.pytorch.callbacks.model_summary:\n",
      "  | Name  | Type        | Params | In sizes                                                         | Out sizes   \n",
      "------------------------------------------------------------------------------------------------------------------------\n",
      "0 | model | DeepARModel | 27.6 K | [[1, 1], [1, 1], [1, 1224, 5], [1, 1224], [1, 1224], [1, 24, 5]] | [1, 100, 24]\n",
      "------------------------------------------------------------------------------------------------------------------------\n",
      "27.6 K    Trainable params\n",
      "0         Non-trainable params\n",
      "27.6 K    Total params\n",
      "0.111     Total estimated model params size (MB)\n"
     ]
    },
    {
     "data": {
      "application/json": {
       "ascii": false,
       "bar_format": "{l_bar}{bar}| {n_fmt}/{total_fmt} [{elapsed}<{remaining}, {rate_noinv_fmt}{postfix}]",
       "colour": null,
       "elapsed": 0.008193016052246094,
       "initial": 0,
       "n": 0,
       "ncols": null,
       "nrows": null,
       "postfix": null,
       "prefix": "Training",
       "rate": null,
       "total": null,
       "unit": "it",
       "unit_divisor": 1000,
       "unit_scale": false
      },
      "application/vnd.jupyter.widget-view+json": {
       "model_id": "505bbc82790844bdb9bf94f965237160",
       "version_major": 2,
       "version_minor": 0
      },
      "text/plain": [
       "Training: |          | 0/? [00:00<?, ?it/s]"
      ]
     },
     "metadata": {},
     "output_type": "display_data"
    },
    {
     "name": "stderr",
     "output_type": "stream",
     "text": [
      "INFO: Epoch 0, global step 50: 'train_loss' reached -2.01914 (best -2.01914), saving model to '/root/tcn/base/deepar/lightning_logs/version_1/checkpoints/epoch=0-step=50.ckpt' as top 1\n",
      "INFO:lightning.pytorch.utilities.rank_zero:Epoch 0, global step 50: 'train_loss' reached -2.01914 (best -2.01914), saving model to '/root/tcn/base/deepar/lightning_logs/version_1/checkpoints/epoch=0-step=50.ckpt' as top 1\n",
      "INFO: Epoch 1, global step 100: 'train_loss' reached -2.72436 (best -2.72436), saving model to '/root/tcn/base/deepar/lightning_logs/version_1/checkpoints/epoch=1-step=100.ckpt' as top 1\n",
      "INFO:lightning.pytorch.utilities.rank_zero:Epoch 1, global step 100: 'train_loss' reached -2.72436 (best -2.72436), saving model to '/root/tcn/base/deepar/lightning_logs/version_1/checkpoints/epoch=1-step=100.ckpt' as top 1\n",
      "INFO: Epoch 2, global step 150: 'train_loss' reached -3.03397 (best -3.03397), saving model to '/root/tcn/base/deepar/lightning_logs/version_1/checkpoints/epoch=2-step=150.ckpt' as top 1\n",
      "INFO:lightning.pytorch.utilities.rank_zero:Epoch 2, global step 150: 'train_loss' reached -3.03397 (best -3.03397), saving model to '/root/tcn/base/deepar/lightning_logs/version_1/checkpoints/epoch=2-step=150.ckpt' as top 1\n",
      "INFO: Epoch 3, global step 200: 'train_loss' reached -3.13762 (best -3.13762), saving model to '/root/tcn/base/deepar/lightning_logs/version_1/checkpoints/epoch=3-step=200.ckpt' as top 1\n",
      "INFO:lightning.pytorch.utilities.rank_zero:Epoch 3, global step 200: 'train_loss' reached -3.13762 (best -3.13762), saving model to '/root/tcn/base/deepar/lightning_logs/version_1/checkpoints/epoch=3-step=200.ckpt' as top 1\n",
      "INFO: Epoch 4, global step 250: 'train_loss' reached -3.21971 (best -3.21971), saving model to '/root/tcn/base/deepar/lightning_logs/version_1/checkpoints/epoch=4-step=250.ckpt' as top 1\n",
      "INFO:lightning.pytorch.utilities.rank_zero:Epoch 4, global step 250: 'train_loss' reached -3.21971 (best -3.21971), saving model to '/root/tcn/base/deepar/lightning_logs/version_1/checkpoints/epoch=4-step=250.ckpt' as top 1\n",
      "INFO: Epoch 5, global step 300: 'train_loss' reached -3.28888 (best -3.28888), saving model to '/root/tcn/base/deepar/lightning_logs/version_1/checkpoints/epoch=5-step=300.ckpt' as top 1\n",
      "INFO:lightning.pytorch.utilities.rank_zero:Epoch 5, global step 300: 'train_loss' reached -3.28888 (best -3.28888), saving model to '/root/tcn/base/deepar/lightning_logs/version_1/checkpoints/epoch=5-step=300.ckpt' as top 1\n",
      "INFO: Epoch 6, global step 350: 'train_loss' reached -3.33745 (best -3.33745), saving model to '/root/tcn/base/deepar/lightning_logs/version_1/checkpoints/epoch=6-step=350.ckpt' as top 1\n",
      "INFO:lightning.pytorch.utilities.rank_zero:Epoch 6, global step 350: 'train_loss' reached -3.33745 (best -3.33745), saving model to '/root/tcn/base/deepar/lightning_logs/version_1/checkpoints/epoch=6-step=350.ckpt' as top 1\n",
      "INFO: Epoch 7, global step 400: 'train_loss' reached -3.35588 (best -3.35588), saving model to '/root/tcn/base/deepar/lightning_logs/version_1/checkpoints/epoch=7-step=400.ckpt' as top 1\n",
      "INFO:lightning.pytorch.utilities.rank_zero:Epoch 7, global step 400: 'train_loss' reached -3.35588 (best -3.35588), saving model to '/root/tcn/base/deepar/lightning_logs/version_1/checkpoints/epoch=7-step=400.ckpt' as top 1\n",
      "INFO: Epoch 8, global step 450: 'train_loss' reached -3.36536 (best -3.36536), saving model to '/root/tcn/base/deepar/lightning_logs/version_1/checkpoints/epoch=8-step=450.ckpt' as top 1\n",
      "INFO:lightning.pytorch.utilities.rank_zero:Epoch 8, global step 450: 'train_loss' reached -3.36536 (best -3.36536), saving model to '/root/tcn/base/deepar/lightning_logs/version_1/checkpoints/epoch=8-step=450.ckpt' as top 1\n",
      "INFO: Epoch 9, global step 500: 'train_loss' reached -3.43564 (best -3.43564), saving model to '/root/tcn/base/deepar/lightning_logs/version_1/checkpoints/epoch=9-step=500.ckpt' as top 1\n",
      "INFO:lightning.pytorch.utilities.rank_zero:Epoch 9, global step 500: 'train_loss' reached -3.43564 (best -3.43564), saving model to '/root/tcn/base/deepar/lightning_logs/version_1/checkpoints/epoch=9-step=500.ckpt' as top 1\n",
      "INFO: `Trainer.fit` stopped: `max_epochs=10` reached.\n",
      "INFO:lightning.pytorch.utilities.rank_zero:`Trainer.fit` stopped: `max_epochs=10` reached.\n"
     ]
    }
   ],
   "source": [
    "predictor = estimator.train(dataset.train)"
   ]
  },
  {
   "cell_type": "code",
   "execution_count": 11,
   "id": "a5f8bc03",
   "metadata": {},
   "outputs": [],
   "source": [
    "logger.finish(config=config)"
   ]
  },
  {
   "cell_type": "markdown",
   "id": "2837cfb2",
   "metadata": {},
   "source": [
    "## Visualize and evaluate forecasts\n",
    "\n",
    "With a predictor in hand, we can now predict the last window of the `dataset.test` and evaluate our model's performance.\n",
    "\n",
    "GluonTS comes with the `make_evaluation_predictions` function that automates the process of prediction and model evaluation. Roughly, this function performs the following steps:\n",
    "\n",
    "- Removes the final window of length `prediction_length` of the `dataset.test` that we want to predict\n",
    "- The estimator uses the remaining data to predict (in the form of sample paths) the \"future\" window that was just removed\n",
    "- The module outputs the forecast sample paths and the `dataset.test` (as python generator objects)"
   ]
  },
  {
   "cell_type": "code",
   "execution_count": 12,
   "id": "85bd7b6c",
   "metadata": {},
   "outputs": [],
   "source": [
    "from gluonts.evaluation import make_evaluation_predictions"
   ]
  },
  {
   "cell_type": "code",
   "execution_count": 13,
   "id": "4a6f0a80",
   "metadata": {},
   "outputs": [],
   "source": [
    "forecast_it, ts_it = make_evaluation_predictions(\n",
    "    dataset=dataset.test,  # test dataset\n",
    "    predictor=predictor,  # predictor\n",
    "    num_samples=100,  # number of sample paths we want for evaluation\n",
    ")"
   ]
  },
  {
   "cell_type": "markdown",
   "id": "41934b19",
   "metadata": {},
   "source": [
    "First, we can convert these generators to lists to ease the subsequent computations."
   ]
  },
  {
   "cell_type": "code",
   "execution_count": 14,
   "id": "8c21e33d",
   "metadata": {},
   "outputs": [],
   "source": [
    "forecasts = list(forecast_it)\n",
    "tss = list(ts_it)"
   ]
  },
  {
   "cell_type": "markdown",
   "id": "7e521ae0",
   "metadata": {},
   "source": [
    "We can examine the first element of these lists (that corresponds to the first time series of the dataset). Let's start with the list containing the time series, i.e., `tss`. We expect the first entry of `tss` to contain the (target of the) first time series of `dataset.test`."
   ]
  },
  {
   "cell_type": "code",
   "execution_count": 15,
   "id": "bc5d3de2",
   "metadata": {},
   "outputs": [],
   "source": [
    "# first entry of the time series list\n",
    "ts_entry = tss[0]"
   ]
  },
  {
   "cell_type": "code",
   "execution_count": 16,
   "id": "fa46c278",
   "metadata": {},
   "outputs": [
    {
     "data": {
      "text/plain": [
       "array([0.00973333, 0.00661667, 0.00618333, 0.00896667, 0.01836667],\n",
       "      dtype=float32)"
      ]
     },
     "execution_count": 16,
     "metadata": {},
     "output_type": "execute_result"
    }
   ],
   "source": [
    "# first 5 values of the time series (convert from pandas to numpy)\n",
    "np.array(ts_entry[:5]).reshape(\n",
    "    -1,\n",
    ")"
   ]
  },
  {
   "cell_type": "code",
   "execution_count": 17,
   "id": "18d90654",
   "metadata": {},
   "outputs": [],
   "source": [
    "# first entry of dataset.test\n",
    "dataset_test_entry = next(iter(dataset.test))"
   ]
  },
  {
   "cell_type": "code",
   "execution_count": 18,
   "id": "ac8323e9",
   "metadata": {},
   "outputs": [
    {
     "data": {
      "text/plain": [
       "array([0.00973333, 0.00661667, 0.00618333, 0.00896667, 0.01836667],\n",
       "      dtype=float32)"
      ]
     },
     "execution_count": 18,
     "metadata": {},
     "output_type": "execute_result"
    }
   ],
   "source": [
    "# first 5 values\n",
    "dataset_test_entry[\"target\"][:5]"
   ]
  },
  {
   "cell_type": "markdown",
   "id": "87846b2e",
   "metadata": {},
   "source": [
    "The entries in the `forecast` list are a bit more complex. They are objects that contain all the sample paths in the form of `numpy.ndarray` with dimension `(num_samples, prediction_length)`, the start date of the forecast, the frequency of the time series, etc. We can access all this information by simply invoking the corresponding attribute of the forecast object."
   ]
  },
  {
   "cell_type": "code",
   "execution_count": 19,
   "id": "03f3bb51",
   "metadata": {},
   "outputs": [],
   "source": [
    "# first entry of the forecast list\n",
    "forecast_entry = forecasts[0]"
   ]
  },
  {
   "cell_type": "code",
   "execution_count": 20,
   "id": "6ddc7d3e",
   "metadata": {},
   "outputs": [
    {
     "name": "stdout",
     "output_type": "stream",
     "text": [
      "Number of sample paths: 100\n",
      "Dimension of samples: (100, 24)\n",
      "Start date of the forecast window: 2008-06-15 17:00\n",
      "Frequency of the time series: <Hour>\n"
     ]
    }
   ],
   "source": [
    "print(f\"Number of sample paths: {forecast_entry.num_samples}\")\n",
    "print(f\"Dimension of samples: {forecast_entry.samples.shape}\")\n",
    "print(f\"Start date of the forecast window: {forecast_entry.start_date}\")\n",
    "print(f\"Frequency of the time series: {forecast_entry.freq}\")"
   ]
  },
  {
   "cell_type": "markdown",
   "id": "cdc0995d",
   "metadata": {},
   "source": [
    "We can also do calculations to summarize the sample paths, such as computing the mean or a quantile for each of the 48 time steps in the forecast window."
   ]
  },
  {
   "cell_type": "code",
   "execution_count": 21,
   "id": "5d0661b3",
   "metadata": {},
   "outputs": [
    {
     "name": "stdout",
     "output_type": "stream",
     "text": [
      "Mean of the future window:\n",
      " [0.02516775 0.02126585 0.0163271  0.01377304 0.01299173 0.00961198\n",
      " 0.00585591 0.00363814 0.0023048  0.00174709 0.00150194 0.00350096\n",
      " 0.01037297 0.01213657 0.01361257 0.01761997 0.02169696 0.02530036\n",
      " 0.02680915 0.02490477 0.02696327 0.02618487 0.02631132 0.024587  ]\n",
      "0.5-quantile (median) of the future window:\n",
      " [0.02555088 0.02118668 0.01636351 0.01370244 0.01293348 0.00975659\n",
      " 0.00580528 0.00372971 0.00232636 0.00175149 0.00147807 0.00350851\n",
      " 0.01040106 0.0122854  0.01322012 0.01793482 0.021667   0.0247759\n",
      " 0.02695833 0.02871197 0.02705256 0.02690635 0.02638062 0.02477197]\n"
     ]
    }
   ],
   "source": [
    "print(f\"Mean of the future window:\\n {forecast_entry.mean}\")\n",
    "print(f\"0.5-quantile (median) of the future window:\\n {forecast_entry.quantile(0.5)}\")"
   ]
  },
  {
   "cell_type": "markdown",
   "id": "95436b0f",
   "metadata": {},
   "source": [
    "`Forecast` objects have a `plot` method that can summarize the forecast paths as the mean, prediction intervals, etc. The prediction intervals are shaded in different colors as a \"fan chart\"."
   ]
  },
  {
   "cell_type": "code",
   "execution_count": 22,
   "id": "e7219222",
   "metadata": {},
   "outputs": [
    {
     "data": {
      "text/plain": [
       "<matplotlib.legend.Legend at 0x7fcabaa5cc40>"
      ]
     },
     "execution_count": 22,
     "metadata": {},
     "output_type": "execute_result"
    },
    {
     "data": {
      "image/png": "[encoded data removed]",
      "text/plain": [
       "<Figure size 640x480 with 1 Axes>"
      ]
     },
     "metadata": {},
     "output_type": "display_data"
    }
   ],
   "source": [
    "plt.plot(ts_entry[-150:].to_timestamp())\n",
    "forecast_entry.plot(show_label=True)\n",
    "plt.legend()"
   ]
  },
  {
   "cell_type": "markdown",
   "id": "379a0fa7",
   "metadata": {},
   "source": [
    "We can also evaluate the quality of our forecasts numerically. In GluonTS, the `Evaluator` class can compute aggregate performance metrics, as well as metrics per time series (which can be useful for analyzing performance across heterogeneous time series)."
   ]
  },
  {
   "cell_type": "code",
   "execution_count": 23,
   "id": "6f1986cf",
   "metadata": {},
   "outputs": [],
   "source": [
    "from gluonts.evaluation import Evaluator"
   ]
  },
  {
   "cell_type": "code",
   "execution_count": null,
   "id": "cfadaaef",
   "metadata": {},
   "outputs": [
    {
     "name": "stderr",
     "output_type": "stream",
     "text": [
      "Running evaluation: 6741it [00:03, 1727.76it/s]\n"
     ]
    }
   ],
   "source": [
    "evaluator = Evaluator(quantiles=(np.arange(20)/20.0)[1:])\n",
    "agg_metrics, item_metrics = evaluator(tss, forecasts)\n",
    "pd.DataFrame.from_records(agg_metrics, index=[\"FeedForward\"]).transpose().to_csv(logger.evaluate_to_log_name())"
   ]
  },
  {
   "cell_type": "markdown",
   "id": "0c57d5f7",
   "metadata": {},
   "source": [
    "The aggregate metrics, `agg_metrics`, aggregate both across time-steps and across time series."
   ]
  },
  {
   "cell_type": "code",
   "execution_count": null,
   "id": "6fab06dc",
   "metadata": {},
   "outputs": [],
   "source": [
    "print(json.dumps(agg_metrics, indent=4))"
   ]
  },
  {
   "cell_type": "markdown",
   "id": "1acf6362",
   "metadata": {},
   "source": [
    "Individual metrics are aggregated only across time-steps."
   ]
  },
  {
   "cell_type": "code",
   "execution_count": null,
   "id": "58206e0d",
   "metadata": {},
   "outputs": [],
   "source": [
    "item_metrics.head()"
   ]
  },
  {
   "cell_type": "code",
   "execution_count": null,
   "id": "d333a906",
   "metadata": {
    "tags": []
   },
   "outputs": [],
   "source": [
    "item_metrics.plot(x=\"MSIS\", y=\"MASE\", kind=\"scatter\")\n",
    "plt.grid(which=\"both\")\n",
    "plt.show()"
   ]
  }
 ],
 "metadata": {
  "kernelspec": {
   "display_name": "Python 3 (ipykernel)",
   "language": "python",
   "name": "python3"
  },
  "language_info": {
   "codemirror_mode": {
    "name": "ipython",
    "version": 3
   },
   "file_extension": ".py",
   "mimetype": "text/x-python",
   "name": "python",
   "nbconvert_exporter": "python",
   "pygments_lexer": "ipython3",
   "version": "3.8.10"
  }
 },
 "nbformat": 4,
 "nbformat_minor": 5
}
