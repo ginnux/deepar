{
 "cells": [
  {
   "cell_type": "markdown",
   "id": "29e1b7cd",
   "metadata": {},
   "source": [
    "# Quick Start Tutorial\n",
    "\n",
    "GluonTS contains:\n",
    "\n",
    "* A number of pre-built models\n",
    "* Components for building new models (likelihoods, feature processing pipelines, calendar features etc.)\n",
    "* Data loading and processing\n",
    "* Plotting and evaluation facilities\n",
    "* Artificial and real datasets (only external datasets with blessed license)"
   ]
  },
  {
   "cell_type": "code",
   "execution_count": 15,
   "id": "2a9e6444",
   "metadata": {},
   "outputs": [],
   "source": [
    "%matplotlib inline\n",
    "import numpy as np\n",
    "import pandas as pd\n",
    "import matplotlib.pyplot as plt\n",
    "import json"
   ]
  },
  {
   "cell_type": "code",
   "execution_count": 16,
   "id": "2d88b97f",
   "metadata": {},
   "outputs": [],
   "source": [
    "import ssl\n",
    "ssl._create_default_https_context = ssl._create_unverified_context"
   ]
  },
  {
   "cell_type": "code",
   "execution_count": 17,
   "id": "74bc2aea",
   "metadata": {},
   "outputs": [],
   "source": [
    "from logger import *"
   ]
  },
  {
   "cell_type": "code",
   "execution_count": 18,
   "id": "49f0e924",
   "metadata": {},
   "outputs": [],
   "source": [
    "config = {\n",
    "        \"epochs\": 10,\n",
    "        \"dataset\":\"traffic_nips\",\n",
    "}\n",
    "logger = Logger()\n",
    "\n",
    "exp_agent = Experiment_Agent(config=config)\n",
    "exp_agent.init_new_exp()\n",
    "exp_agent.run_exp(timestamp = logger.timestamp)"
   ]
  },
  {
   "cell_type": "markdown",
   "id": "6792d064",
   "metadata": {},
   "source": [
    "## Datasets\n",
    "\n",
    "### Provided datasets\n",
    "\n",
    "GluonTS comes with a number of publicly available datasets."
   ]
  },
  {
   "cell_type": "code",
   "execution_count": 19,
   "id": "8cc8f881",
   "metadata": {},
   "outputs": [],
   "source": [
    "from gluonts.dataset.repository import get_dataset, dataset_names\n",
    "from gluonts.dataset.util import to_pandas"
   ]
  },
  {
   "cell_type": "code",
   "execution_count": 20,
   "id": "0b5d8db3",
   "metadata": {},
   "outputs": [
    {
     "name": "stdout",
     "output_type": "stream",
     "text": [
      "Available datasets: ['constant', 'exchange_rate', 'solar-energy', 'electricity', 'traffic', 'exchange_rate_nips', 'electricity_nips', 'traffic_nips', 'solar_nips', 'wiki2000_nips', 'wiki-rolling_nips', 'taxi_30min', 'kaggle_web_traffic_with_missing', 'kaggle_web_traffic_without_missing', 'kaggle_web_traffic_weekly', 'm1_yearly', 'm1_quarterly', 'm1_monthly', 'nn5_daily_with_missing', 'nn5_daily_without_missing', 'nn5_weekly', 'tourism_monthly', 'tourism_quarterly', 'tourism_yearly', 'cif_2016', 'london_smart_meters_without_missing', 'wind_farms_without_missing', 'car_parts_without_missing', 'dominick', 'fred_md', 'pedestrian_counts', 'hospital', 'covid_deaths', 'kdd_cup_2018_without_missing', 'weather', 'm3_monthly', 'm3_quarterly', 'm3_yearly', 'm3_other', 'm4_hourly', 'm4_daily', 'm4_weekly', 'm4_monthly', 'm4_quarterly', 'm4_yearly', 'm5', 'uber_tlc_daily', 'uber_tlc_hourly', 'airpassengers', 'australian_electricity_demand', 'electricity_hourly', 'electricity_weekly', 'rideshare_without_missing', 'saugeenday', 'solar_10_minutes', 'solar_weekly', 'sunspot_without_missing', 'temperature_rain_without_missing', 'vehicle_trips_without_missing']\n"
     ]
    }
   ],
   "source": [
    "print(f\"Available datasets: {dataset_names}\")"
   ]
  },
  {
   "cell_type": "markdown",
   "id": "ada3a866",
   "metadata": {},
   "source": [
    "To download one of the built-in datasets, simply call get_dataset with one of the above names. GluonTS can re-use the saved dataset so that it does not need to be downloaded again the next time around."
   ]
  },
  {
   "cell_type": "code",
   "execution_count": 21,
   "id": "5829260a",
   "metadata": {},
   "outputs": [],
   "source": [
    "dataset = get_dataset(config[\"dataset\"])"
   ]
  },
  {
   "cell_type": "markdown",
   "id": "eca546f5",
   "metadata": {},
   "source": [
    "## Training an existing model (`Estimator`)\n",
    "\n",
    "GluonTS comes with a number of pre-built models. All the user needs to do is configure some hyperparameters. The existing models focus on (but are not limited to) probabilistic forecasting. Probabilistic forecasts are predictions in the form of a probability distribution, rather than simply a single point estimate.\n",
    "\n",
    "We will begin with GluonTS's pre-built feedforward neural network estimator, a simple but powerful forecasting model. We will use this model to demonstrate the process of training a model, producing forecasts, and evaluating the results.\n",
    "\n",
    "GluonTS's built-in feedforward neural network (`SimpleFeedForwardEstimator`) accepts an input window of length `context_length` and predicts the distribution of the values of the subsequent `prediction_length` values. In GluonTS parlance, the feedforward neural network model is an example of an `Estimator`. In GluonTS, `Estimator` objects represent a forecasting model as well as details such as its coefficients, weights, etc.\n",
    "\n",
    "In general, each estimator (pre-built or custom) is configured by a number of hyperparameters that can be either common (but not binding) among all estimators (e.g., the `prediction_length`) or specific for the particular estimator (e.g., number of layers for a neural network or the stride in a CNN).\n",
    "\n",
    "Finally, each estimator is configured by a `Trainer`, which defines how the model will be trained i.e., the number of epochs, the learning rate, etc."
   ]
  },
  {
   "cell_type": "code",
   "execution_count": 22,
   "id": "daf60482",
   "metadata": {},
   "outputs": [],
   "source": [
    "# from gluonts.mx import SimpleFeedForwardEstimator, Trainer\n",
    "from gluonts.torch.model.deepar import DeepAREstimator"
   ]
  },
  {
   "cell_type": "code",
   "execution_count": 23,
   "id": "b5681c80",
   "metadata": {},
   "outputs": [],
   "source": [
    "'''\n",
    "estimator = SimpleFeedForwardEstimator(\n",
    "    num_hidden_dimensions=[10],\n",
    "    prediction_length=dataset.metadata.prediction_length,\n",
    "    context_length=100,\n",
    "    trainer=Trainer(ctx=\"cpu\", epochs=5, learning_rate=1e-3, num_batches_per_epoch=100),\n",
    ")\n",
    "'''\n",
    "estimator = DeepAREstimator(freq = dataset.metadata.freq, prediction_length=dataset.metadata.prediction_length,context_length=504,\n",
    "                           trainer_kwargs = {\"max_epochs\":config[\"epochs\"]})"
   ]
  },
  {
   "cell_type": "markdown",
   "id": "d7ff69db",
   "metadata": {},
   "source": [
    "After specifying our estimator with all the necessary hyperparameters we can train it using our training dataset `dataset.train` by invoking the `train` method of the estimator. The training algorithm returns a fitted model (or a `Predictor` in GluonTS parlance) that can be used to construct forecasts."
   ]
  },
  {
   "cell_type": "code",
   "execution_count": 24,
   "id": "46f42fec",
   "metadata": {},
   "outputs": [
    {
     "name": "stderr",
     "output_type": "stream",
     "text": [
      "INFO: GPU available: False, used: False\n",
      "INFO:lightning.pytorch.utilities.rank_zero:GPU available: False, used: False\n",
      "INFO: TPU available: False, using: 0 TPU cores\n",
      "INFO:lightning.pytorch.utilities.rank_zero:TPU available: False, using: 0 TPU cores\n",
      "INFO: IPU available: False, using: 0 IPUs\n",
      "INFO:lightning.pytorch.utilities.rank_zero:IPU available: False, using: 0 IPUs\n",
      "INFO: HPU available: False, using: 0 HPUs\n",
      "INFO:lightning.pytorch.utilities.rank_zero:HPU available: False, using: 0 HPUs\n",
      "/Library/Frameworks/Python.framework/Versions/3.9/lib/python3.9/site-packages/lightning/pytorch/trainer/connectors/logger_connector/logger_connector.py:75: Starting from v1.9.0, `tensorboardX` has been removed as a dependency of the `lightning.pytorch` package, due to potential conflicts with other packages in the ML ecosystem. For this reason, `logger=True` will use `CSVLogger` as the default logger, unless the `tensorboard` or `tensorboardX` packages are found. Please `pip install lightning[extra]` or one of them to enable TensorBoard support by default\n",
      "/Library/Frameworks/Python.framework/Versions/3.9/lib/python3.9/site-packages/lightning/pytorch/trainer/configuration_validator.py:74: You defined a `validation_step` but have no `val_dataloader`. Skipping val loop.\n",
      "WARNING: Missing logger folder: /Users/mac/Documents/Program/tcn/base/deepar/lightning_logs\n",
      "WARNING:lightning.fabric.loggers.csv_logs:Missing logger folder: /Users/mac/Documents/Program/tcn/base/deepar/lightning_logs\n",
      "INFO: \n",
      "  | Name  | Type        | Params | In sizes                                                         | Out sizes   \n",
      "------------------------------------------------------------------------------------------------------------------------\n",
      "0 | model | DeepARModel | 27.6 K | [[1, 1], [1, 1], [1, 1224, 5], [1, 1224], [1, 1224], [1, 24, 5]] | [1, 100, 24]\n",
      "------------------------------------------------------------------------------------------------------------------------\n",
      "27.6 K    Trainable params\n",
      "0         Non-trainable params\n",
      "27.6 K    Total params\n",
      "0.111     Total estimated model params size (MB)\n",
      "INFO:lightning.pytorch.callbacks.model_summary:\n",
      "  | Name  | Type        | Params | In sizes                                                         | Out sizes   \n",
      "------------------------------------------------------------------------------------------------------------------------\n",
      "0 | model | DeepARModel | 27.6 K | [[1, 1], [1, 1], [1, 1224, 5], [1, 1224], [1, 1224], [1, 24, 5]] | [1, 100, 24]\n",
      "------------------------------------------------------------------------------------------------------------------------\n",
      "27.6 K    Trainable params\n",
      "0         Non-trainable params\n",
      "27.6 K    Total params\n",
      "0.111     Total estimated model params size (MB)\n"
     ]
    },
    {
     "name": "stdout",
     "output_type": "stream",
     "text": [
      "Epoch 0: |          | 50/? [00:17<00:00,  2.93it/s, v_num=0, train_loss=-2.02]"
     ]
    },
    {
     "name": "stderr",
     "output_type": "stream",
     "text": [
      "INFO: Epoch 0, global step 50: 'train_loss' reached -2.01723 (best -2.01723), saving model to '/Users/mac/Documents/Program/tcn/base/deepar/lightning_logs/version_0/checkpoints/epoch=0-step=50.ckpt' as top 1\n",
      "INFO:lightning.pytorch.utilities.rank_zero:Epoch 0, global step 50: 'train_loss' reached -2.01723 (best -2.01723), saving model to '/Users/mac/Documents/Program/tcn/base/deepar/lightning_logs/version_0/checkpoints/epoch=0-step=50.ckpt' as top 1\n"
     ]
    },
    {
     "name": "stdout",
     "output_type": "stream",
     "text": [
      "Epoch 1: |          | 50/? [00:16<00:00,  3.06it/s, v_num=0, train_loss=-2.79]"
     ]
    },
    {
     "name": "stderr",
     "output_type": "stream",
     "text": [
      "INFO: Epoch 1, global step 100: 'train_loss' reached -2.79155 (best -2.79155), saving model to '/Users/mac/Documents/Program/tcn/base/deepar/lightning_logs/version_0/checkpoints/epoch=1-step=100.ckpt' as top 1\n",
      "INFO:lightning.pytorch.utilities.rank_zero:Epoch 1, global step 100: 'train_loss' reached -2.79155 (best -2.79155), saving model to '/Users/mac/Documents/Program/tcn/base/deepar/lightning_logs/version_0/checkpoints/epoch=1-step=100.ckpt' as top 1\n"
     ]
    },
    {
     "name": "stdout",
     "output_type": "stream",
     "text": [
      "Epoch 2: |          | 50/? [00:15<00:00,  3.27it/s, v_num=0, train_loss=-3.11]"
     ]
    },
    {
     "name": "stderr",
     "output_type": "stream",
     "text": [
      "INFO: Epoch 2, global step 150: 'train_loss' reached -3.10806 (best -3.10806), saving model to '/Users/mac/Documents/Program/tcn/base/deepar/lightning_logs/version_0/checkpoints/epoch=2-step=150.ckpt' as top 1\n",
      "INFO:lightning.pytorch.utilities.rank_zero:Epoch 2, global step 150: 'train_loss' reached -3.10806 (best -3.10806), saving model to '/Users/mac/Documents/Program/tcn/base/deepar/lightning_logs/version_0/checkpoints/epoch=2-step=150.ckpt' as top 1\n"
     ]
    },
    {
     "name": "stdout",
     "output_type": "stream",
     "text": [
      "Epoch 3: |          | 50/? [00:15<00:00,  3.23it/s, v_num=0, train_loss=-3.20]"
     ]
    },
    {
     "name": "stderr",
     "output_type": "stream",
     "text": [
      "INFO: Epoch 3, global step 200: 'train_loss' reached -3.19750 (best -3.19750), saving model to '/Users/mac/Documents/Program/tcn/base/deepar/lightning_logs/version_0/checkpoints/epoch=3-step=200.ckpt' as top 1\n",
      "INFO:lightning.pytorch.utilities.rank_zero:Epoch 3, global step 200: 'train_loss' reached -3.19750 (best -3.19750), saving model to '/Users/mac/Documents/Program/tcn/base/deepar/lightning_logs/version_0/checkpoints/epoch=3-step=200.ckpt' as top 1\n"
     ]
    },
    {
     "name": "stdout",
     "output_type": "stream",
     "text": [
      "Epoch 4: |          | 50/? [00:16<00:00,  3.11it/s, v_num=0, train_loss=-3.20]"
     ]
    },
    {
     "name": "stderr",
     "output_type": "stream",
     "text": [
      "INFO: Epoch 4, global step 250: 'train_loss' reached -3.19921 (best -3.19921), saving model to '/Users/mac/Documents/Program/tcn/base/deepar/lightning_logs/version_0/checkpoints/epoch=4-step=250.ckpt' as top 1\n",
      "INFO:lightning.pytorch.utilities.rank_zero:Epoch 4, global step 250: 'train_loss' reached -3.19921 (best -3.19921), saving model to '/Users/mac/Documents/Program/tcn/base/deepar/lightning_logs/version_0/checkpoints/epoch=4-step=250.ckpt' as top 1\n"
     ]
    },
    {
     "name": "stdout",
     "output_type": "stream",
     "text": [
      "Epoch 5: |          | 50/? [00:15<00:00,  3.19it/s, v_num=0, train_loss=-3.26]"
     ]
    },
    {
     "name": "stderr",
     "output_type": "stream",
     "text": [
      "INFO: Epoch 5, global step 300: 'train_loss' reached -3.25719 (best -3.25719), saving model to '/Users/mac/Documents/Program/tcn/base/deepar/lightning_logs/version_0/checkpoints/epoch=5-step=300.ckpt' as top 1\n",
      "INFO:lightning.pytorch.utilities.rank_zero:Epoch 5, global step 300: 'train_loss' reached -3.25719 (best -3.25719), saving model to '/Users/mac/Documents/Program/tcn/base/deepar/lightning_logs/version_0/checkpoints/epoch=5-step=300.ckpt' as top 1\n"
     ]
    },
    {
     "name": "stdout",
     "output_type": "stream",
     "text": [
      "Epoch 6: |          | 50/? [00:15<00:00,  3.33it/s, v_num=0, train_loss=-3.35]"
     ]
    },
    {
     "name": "stderr",
     "output_type": "stream",
     "text": [
      "INFO: Epoch 6, global step 350: 'train_loss' reached -3.34966 (best -3.34966), saving model to '/Users/mac/Documents/Program/tcn/base/deepar/lightning_logs/version_0/checkpoints/epoch=6-step=350.ckpt' as top 1\n",
      "INFO:lightning.pytorch.utilities.rank_zero:Epoch 6, global step 350: 'train_loss' reached -3.34966 (best -3.34966), saving model to '/Users/mac/Documents/Program/tcn/base/deepar/lightning_logs/version_0/checkpoints/epoch=6-step=350.ckpt' as top 1\n"
     ]
    },
    {
     "name": "stdout",
     "output_type": "stream",
     "text": [
      "Epoch 7: |          | 50/? [00:15<00:00,  3.16it/s, v_num=0, train_loss=-3.37]"
     ]
    },
    {
     "name": "stderr",
     "output_type": "stream",
     "text": [
      "INFO: Epoch 7, global step 400: 'train_loss' reached -3.37021 (best -3.37021), saving model to '/Users/mac/Documents/Program/tcn/base/deepar/lightning_logs/version_0/checkpoints/epoch=7-step=400.ckpt' as top 1\n",
      "INFO:lightning.pytorch.utilities.rank_zero:Epoch 7, global step 400: 'train_loss' reached -3.37021 (best -3.37021), saving model to '/Users/mac/Documents/Program/tcn/base/deepar/lightning_logs/version_0/checkpoints/epoch=7-step=400.ckpt' as top 1\n"
     ]
    },
    {
     "name": "stdout",
     "output_type": "stream",
     "text": [
      "Epoch 8: |          | 50/? [00:15<00:00,  3.21it/s, v_num=0, train_loss=-3.42]"
     ]
    },
    {
     "name": "stderr",
     "output_type": "stream",
     "text": [
      "INFO: Epoch 8, global step 450: 'train_loss' reached -3.41985 (best -3.41985), saving model to '/Users/mac/Documents/Program/tcn/base/deepar/lightning_logs/version_0/checkpoints/epoch=8-step=450.ckpt' as top 1\n",
      "INFO:lightning.pytorch.utilities.rank_zero:Epoch 8, global step 450: 'train_loss' reached -3.41985 (best -3.41985), saving model to '/Users/mac/Documents/Program/tcn/base/deepar/lightning_logs/version_0/checkpoints/epoch=8-step=450.ckpt' as top 1\n"
     ]
    },
    {
     "name": "stdout",
     "output_type": "stream",
     "text": [
      "Epoch 9: |          | 50/? [00:15<00:00,  3.17it/s, v_num=0, train_loss=-3.43]"
     ]
    },
    {
     "name": "stderr",
     "output_type": "stream",
     "text": [
      "INFO: Epoch 9, global step 500: 'train_loss' reached -3.42772 (best -3.42772), saving model to '/Users/mac/Documents/Program/tcn/base/deepar/lightning_logs/version_0/checkpoints/epoch=9-step=500.ckpt' as top 1\n",
      "INFO:lightning.pytorch.utilities.rank_zero:Epoch 9, global step 500: 'train_loss' reached -3.42772 (best -3.42772), saving model to '/Users/mac/Documents/Program/tcn/base/deepar/lightning_logs/version_0/checkpoints/epoch=9-step=500.ckpt' as top 1\n",
      "INFO: `Trainer.fit` stopped: `max_epochs=10` reached.\n",
      "INFO:lightning.pytorch.utilities.rank_zero:`Trainer.fit` stopped: `max_epochs=10` reached.\n"
     ]
    },
    {
     "name": "stdout",
     "output_type": "stream",
     "text": [
      "Epoch 9: |          | 50/? [00:15<00:00,  3.16it/s, v_num=0, train_loss=-3.43]\n"
     ]
    }
   ],
   "source": [
    "predictor = estimator.train(dataset.train)"
   ]
  },
  {
   "cell_type": "code",
   "execution_count": 25,
   "id": "a5f8bc03",
   "metadata": {},
   "outputs": [],
   "source": [
    "logger.finish(config=config)"
   ]
  },
  {
   "cell_type": "markdown",
   "id": "2837cfb2",
   "metadata": {},
   "source": [
    "## Visualize and evaluate forecasts\n",
    "\n",
    "With a predictor in hand, we can now predict the last window of the `dataset.test` and evaluate our model's performance.\n",
    "\n",
    "GluonTS comes with the `make_evaluation_predictions` function that automates the process of prediction and model evaluation. Roughly, this function performs the following steps:\n",
    "\n",
    "- Removes the final window of length `prediction_length` of the `dataset.test` that we want to predict\n",
    "- The estimator uses the remaining data to predict (in the form of sample paths) the \"future\" window that was just removed\n",
    "- The module outputs the forecast sample paths and the `dataset.test` (as python generator objects)"
   ]
  },
  {
   "cell_type": "code",
   "execution_count": 26,
   "id": "85bd7b6c",
   "metadata": {},
   "outputs": [],
   "source": [
    "from gluonts.evaluation import make_evaluation_predictions"
   ]
  },
  {
   "cell_type": "code",
   "execution_count": 27,
   "id": "4a6f0a80",
   "metadata": {},
   "outputs": [],
   "source": [
    "forecast_it, ts_it = make_evaluation_predictions(\n",
    "    dataset=dataset.test,  # test dataset\n",
    "    predictor=predictor,  # predictor\n",
    "    num_samples=100,  # number of sample paths we want for evaluation\n",
    ")"
   ]
  },
  {
   "cell_type": "markdown",
   "id": "41934b19",
   "metadata": {},
   "source": [
    "First, we can convert these generators to lists to ease the subsequent computations."
   ]
  },
  {
   "cell_type": "code",
   "execution_count": 28,
   "id": "8c21e33d",
   "metadata": {},
   "outputs": [],
   "source": [
    "forecasts = list(forecast_it)\n",
    "tss = list(ts_it)"
   ]
  },
  {
   "cell_type": "markdown",
   "id": "7e521ae0",
   "metadata": {},
   "source": [
    "We can examine the first element of these lists (that corresponds to the first time series of the dataset). Let's start with the list containing the time series, i.e., `tss`. We expect the first entry of `tss` to contain the (target of the) first time series of `dataset.test`."
   ]
  },
  {
   "cell_type": "code",
   "execution_count": 29,
   "id": "bc5d3de2",
   "metadata": {},
   "outputs": [],
   "source": [
    "# first entry of the time series list\n",
    "ts_entry = tss[0]"
   ]
  },
  {
   "cell_type": "code",
   "execution_count": 30,
   "id": "fa46c278",
   "metadata": {},
   "outputs": [
    {
     "data": {
      "text/plain": [
       "array([0.00973333, 0.00661667, 0.00618333, 0.00896667, 0.01836667],\n",
       "      dtype=float32)"
      ]
     },
     "execution_count": 30,
     "metadata": {},
     "output_type": "execute_result"
    }
   ],
   "source": [
    "# first 5 values of the time series (convert from pandas to numpy)\n",
    "np.array(ts_entry[:5]).reshape(\n",
    "    -1,\n",
    ")"
   ]
  },
  {
   "cell_type": "code",
   "execution_count": 31,
   "id": "18d90654",
   "metadata": {},
   "outputs": [],
   "source": [
    "# first entry of dataset.test\n",
    "dataset_test_entry = next(iter(dataset.test))"
   ]
  },
  {
   "cell_type": "code",
   "execution_count": 32,
   "id": "ac8323e9",
   "metadata": {},
   "outputs": [
    {
     "data": {
      "text/plain": [
       "array([0.00973333, 0.00661667, 0.00618333, 0.00896667, 0.01836667],\n",
       "      dtype=float32)"
      ]
     },
     "execution_count": 32,
     "metadata": {},
     "output_type": "execute_result"
    }
   ],
   "source": [
    "# first 5 values\n",
    "dataset_test_entry[\"target\"][:5]"
   ]
  },
  {
   "cell_type": "markdown",
   "id": "87846b2e",
   "metadata": {},
   "source": [
    "The entries in the `forecast` list are a bit more complex. They are objects that contain all the sample paths in the form of `numpy.ndarray` with dimension `(num_samples, prediction_length)`, the start date of the forecast, the frequency of the time series, etc. We can access all this information by simply invoking the corresponding attribute of the forecast object."
   ]
  },
  {
   "cell_type": "code",
   "execution_count": 33,
   "id": "03f3bb51",
   "metadata": {},
   "outputs": [],
   "source": [
    "# first entry of the forecast list\n",
    "forecast_entry = forecasts[0]"
   ]
  },
  {
   "cell_type": "code",
   "execution_count": 34,
   "id": "6ddc7d3e",
   "metadata": {},
   "outputs": [
    {
     "name": "stdout",
     "output_type": "stream",
     "text": [
      "Number of sample paths: 100\n",
      "Dimension of samples: (100, 24)\n",
      "Start date of the forecast window: 2008-06-15 17:00\n",
      "Frequency of the time series: <Hour>\n"
     ]
    }
   ],
   "source": [
    "print(f\"Number of sample paths: {forecast_entry.num_samples}\")\n",
    "print(f\"Dimension of samples: {forecast_entry.samples.shape}\")\n",
    "print(f\"Start date of the forecast window: {forecast_entry.start_date}\")\n",
    "print(f\"Frequency of the time series: {forecast_entry.freq}\")"
   ]
  },
  {
   "cell_type": "markdown",
   "id": "cdc0995d",
   "metadata": {},
   "source": [
    "We can also do calculations to summarize the sample paths, such as computing the mean or a quantile for each of the 48 time steps in the forecast window."
   ]
  },
  {
   "cell_type": "code",
   "execution_count": 35,
   "id": "5d0661b3",
   "metadata": {},
   "outputs": [
    {
     "name": "stdout",
     "output_type": "stream",
     "text": [
      "Mean of the future window:\n",
      " [0.02818508 0.02193134 0.01735114 0.01513744 0.01474696 0.01156346\n",
      " 0.00751418 0.00473752 0.00330191 0.00215566 0.00173438 0.00312177\n",
      " 0.01045127 0.01140336 0.01266686 0.01601466 0.01980269 0.02359956\n",
      " 0.02696088 0.02811447 0.02734134 0.02615542 0.02647404 0.02544854]\n",
      "0.5-quantile (median) of the future window:\n",
      " [0.02757916 0.02193727 0.01719737 0.01520417 0.01486644 0.01161692\n",
      " 0.00761946 0.00468231 0.00314743 0.00215123 0.00175712 0.00319177\n",
      " 0.01056652 0.01169034 0.0129388  0.01618224 0.01987089 0.0235681\n",
      " 0.02684041 0.02743512 0.02708003 0.02577853 0.02678405 0.02536722]\n"
     ]
    }
   ],
   "source": [
    "print(f\"Mean of the future window:\\n {forecast_entry.mean}\")\n",
    "print(f\"0.5-quantile (median) of the future window:\\n {forecast_entry.quantile(0.5)}\")"
   ]
  },
  {
   "cell_type": "markdown",
   "id": "95436b0f",
   "metadata": {},
   "source": [
    "`Forecast` objects have a `plot` method that can summarize the forecast paths as the mean, prediction intervals, etc. The prediction intervals are shaded in different colors as a \"fan chart\"."
   ]
  },
  {
   "cell_type": "code",
   "execution_count": 36,
   "id": "e7219222",
   "metadata": {},
   "outputs": [
    {
     "data": {
      "text/plain": [
       "<matplotlib.legend.Legend at 0x7f9d200c02b0>"
      ]
     },
     "execution_count": 36,
     "metadata": {},
     "output_type": "execute_result"
    },
    {
     "data": {
      "image/png": "[encoded data removed]",
      "text/plain": [
       "<Figure size 640x480 with 1 Axes>"
      ]
     },
     "metadata": {},
     "output_type": "display_data"
    }
   ],
   "source": [
    "plt.plot(ts_entry[-150:].to_timestamp())\n",
    "forecast_entry.plot(show_label=True)\n",
    "plt.legend()"
   ]
  },
  {
   "cell_type": "markdown",
   "id": "379a0fa7",
   "metadata": {},
   "source": [
    "We can also evaluate the quality of our forecasts numerically. In GluonTS, the `Evaluator` class can compute aggregate performance metrics, as well as metrics per time series (which can be useful for analyzing performance across heterogeneous time series)."
   ]
  },
  {
   "cell_type": "code",
   "execution_count": 37,
   "id": "6f1986cf",
   "metadata": {},
   "outputs": [],
   "source": [
    "from gluonts.evaluation import Evaluator"
   ]
  },
  {
   "cell_type": "code",
   "execution_count": 38,
   "id": "cfadaaef",
   "metadata": {},
   "outputs": [
    {
     "name": "stderr",
     "output_type": "stream",
     "text": [
      "Running evaluation: 0it [00:00, ?it/s]"
     ]
    },
    {
     "name": "stderr",
     "output_type": "stream",
     "text": [
      "Running evaluation: 6741it [00:00, 38396.92it/s]\n",
      "/Library/Frameworks/Python.framework/Versions/3.9/lib/python3.9/site-packages/gluonts/json.py:101: UserWarning: Using `json`-module for json-handling. Consider installing one of `orjson`, `ujson` to speed up serialization and deserialization.\n",
      "  warnings.warn(\n",
      "/Library/Frameworks/Python.framework/Versions/3.9/lib/python3.9/site-packages/gluonts/json.py:101: UserWarning: Using `json`-module for json-handling. Consider installing one of `orjson`, `ujson` to speed up serialization and deserialization.\n",
      "  warnings.warn(\n",
      "/Library/Frameworks/Python.framework/Versions/3.9/lib/python3.9/site-packages/gluonts/json.py:101: UserWarning: Using `json`-module for json-handling. Consider installing one of `orjson`, `ujson` to speed up serialization and deserialization.\n",
      "  warnings.warn(\n",
      "/Library/Frameworks/Python.framework/Versions/3.9/lib/python3.9/site-packages/gluonts/json.py:101: UserWarning: Using `json`-module for json-handling. Consider installing one of `orjson`, `ujson` to speed up serialization and deserialization.\n",
      "  warnings.warn(\n"
     ]
    }
   ],
   "source": [
    "evaluator = Evaluator(quantiles=(np.arange(20)/20.0)[1:])\n",
    "agg_metrics, item_metrics = evaluator(tss, forecasts)\n",
    "pd.DataFrame.from_records(agg_metrics, index=[\"FeedForward\"]).transpose().to_csv(logger.evaluate_to_log_name())"
   ]
  },
  {
   "cell_type": "markdown",
   "id": "0c57d5f7",
   "metadata": {},
   "source": [
    "The aggregate metrics, `agg_metrics`, aggregate both across time-steps and across time series."
   ]
  },
  {
   "cell_type": "code",
   "execution_count": 39,
   "id": "6fab06dc",
   "metadata": {},
   "outputs": [
    {
     "name": "stdout",
     "output_type": "stream",
     "text": [
      "{\n",
      "    \"MSE\": 0.00044066029618354275,\n",
      "    \"abs_error\": 1243.8136197039858,\n",
      "    \"abs_target_sum\": 8472.744249880314,\n",
      "    \"abs_target_mean\": 0.052370718055433876,\n",
      "    \"seasonal_error\": 0.013264990280004111,\n",
      "    \"MASE\": 0.5645747480502914,\n",
      "    \"MAPE\": 0.20460703881846146,\n",
      "    \"sMAPE\": 0.15513448245907752,\n",
      "    \"MSIS\": 6.205469692749441,\n",
      "    \"num_masked_target_values\": 0.0,\n",
      "    \"QuantileLoss[0.05]\": 322.57316855153624,\n",
      "    \"Coverage[0.05]\": 0.06652697423725461,\n",
      "    \"QuantileLoss[0.1]\": 511.6285021655029,\n",
      "    \"Coverage[0.1]\": 0.15311773722988675,\n",
      "    \"QuantileLoss[0.15]\": 665.4072112983208,\n",
      "    \"Coverage[0.15]\": 0.24692800276912424,\n",
      "    \"QuantileLoss[0.2]\": 796.706743139762,\n",
      "    \"Coverage[0.2]\": 0.3380433170152796,\n",
      "    \"QuantileLoss[0.25]\": 909.6933730171731,\n",
      "    \"Coverage[0.25]\": 0.42079562873955395,\n",
      "    \"QuantileLoss[0.3]\": 1006.1179878272,\n",
      "    \"Coverage[0.3]\": 0.4954939919893191,\n",
      "    \"QuantileLoss[0.35]\": 1086.5712255339167,\n",
      "    \"Coverage[0.35]\": 0.5642894229342827,\n",
      "    \"QuantileLoss[0.4]\": 1152.8676123646087,\n",
      "    \"Coverage[0.4]\": 0.6267492459081243,\n",
      "    \"QuantileLoss[0.45]\": 1205.5088841334307,\n",
      "    \"Coverage[0.45]\": 0.6818164960688325,\n",
      "    \"QuantileLoss[0.5]\": 1243.8136177114502,\n",
      "    \"Coverage[0.5]\": 0.7314814814814814,\n",
      "    \"QuantileLoss[0.55]\": 1259.763109550142,\n",
      "    \"Coverage[0.55]\": 0.7677829698857737,\n",
      "    \"QuantileLoss[0.6]\": 1268.2992068646474,\n",
      "    \"Coverage[0.6]\": 0.8076262176729466,\n",
      "    \"QuantileLoss[0.65]\": 1259.3689116669702,\n",
      "    \"Coverage[0.65]\": 0.843179795282599,\n",
      "    \"QuantileLoss[0.7]\": 1232.7396261297167,\n",
      "    \"Coverage[0.7]\": 0.874901102704841,\n",
      "    \"QuantileLoss[0.75]\": 1185.683301218378,\n",
      "    \"Coverage[0.75]\": 0.9012139642980765,\n",
      "    \"QuantileLoss[0.8]\": 1113.7151585363317,\n",
      "    \"Coverage[0.8]\": 0.9237501854324284,\n",
      "    \"QuantileLoss[0.85]\": 1012.0949672483606,\n",
      "    \"Coverage[0.85]\": 0.9428991742075855,\n",
      "    \"QuantileLoss[0.9]\": 868.6878768321127,\n",
      "    \"Coverage[0.9]\": 0.9584754981951243,\n",
      "    \"QuantileLoss[0.95]\": 653.3062598996157,\n",
      "    \"Coverage[0.95]\": 0.9728526924788607,\n",
      "    \"RMSE\": 0.020991910255704287,\n",
      "    \"NRMSE\": 0.40083296611447183,\n",
      "    \"ND\": 0.14680174250763628,\n",
      "    \"wQuantileLoss[0.05]\": 0.03807186420811568,\n",
      "    \"wQuantileLoss[0.1]\": 0.060385217242067725,\n",
      "    \"wQuantileLoss[0.15]\": 0.07853502851897369,\n",
      "    \"wQuantileLoss[0.2]\": 0.09403172332872155,\n",
      "    \"wQuantileLoss[0.25]\": 0.10736702846070487,\n",
      "    \"wQuantileLoss[0.3]\": 0.1187475932418723,\n",
      "    \"wQuantileLoss[0.35]\": 0.1282431280218644,\n",
      "    \"wQuantileLoss[0.4]\": 0.13606779319237614,\n",
      "    \"wQuantileLoss[0.45]\": 0.1422808063810565,\n",
      "    \"wQuantileLoss[0.5]\": 0.14680174227246626,\n",
      "    \"wQuantileLoss[0.55]\": 0.14868418925402327,\n",
      "    \"wQuantileLoss[0.6]\": 0.14969166653207588,\n",
      "    \"wQuantileLoss[0.65]\": 0.14863766384601543,\n",
      "    \"wQuantileLoss[0.7]\": 0.14549472871757346,\n",
      "    \"wQuantileLoss[0.75]\": 0.13994088175565159,\n",
      "    \"wQuantileLoss[0.8]\": 0.13144680468220957,\n",
      "    \"wQuantileLoss[0.85]\": 0.11945302931369108,\n",
      "    \"wQuantileLoss[0.9]\": 0.10252733367283969,\n",
      "    \"wQuantileLoss[0.95]\": 0.07710680750322947,\n",
      "    \"mean_absolute_QuantileLoss\": 987.0814075625883,\n",
      "    \"mean_wQuantileLoss\": 0.11650079106029099,\n",
      "    \"MAE_Coverage\": 0.4728526924788607,\n",
      "    \"OWA\": NaN\n",
      "}\n"
     ]
    }
   ],
   "source": [
    "print(json.dumps(agg_metrics, indent=4))"
   ]
  },
  {
   "cell_type": "markdown",
   "id": "1acf6362",
   "metadata": {},
   "source": [
    "Individual metrics are aggregated only across time-steps."
   ]
  },
  {
   "cell_type": "code",
   "execution_count": 40,
   "id": "58206e0d",
   "metadata": {},
   "outputs": [
    {
     "data": {
      "text/html": [
       "<div>\n",
       "<style scoped>\n",
       "    .dataframe tbody tr th:only-of-type {\n",
       "        vertical-align: middle;\n",
       "    }\n",
       "\n",
       "    .dataframe tbody tr th {\n",
       "        vertical-align: top;\n",
       "    }\n",
       "\n",
       "    .dataframe thead th {\n",
       "        text-align: right;\n",
       "    }\n",
       "</style>\n",
       "<table border=\"1\" class=\"dataframe\">\n",
       "  <thead>\n",
       "    <tr style=\"text-align: right;\">\n",
       "      <th></th>\n",
       "      <th>item_id</th>\n",
       "      <th>forecast_start</th>\n",
       "      <th>MSE</th>\n",
       "      <th>abs_error</th>\n",
       "      <th>abs_target_sum</th>\n",
       "      <th>abs_target_mean</th>\n",
       "      <th>seasonal_error</th>\n",
       "      <th>MASE</th>\n",
       "      <th>MAPE</th>\n",
       "      <th>sMAPE</th>\n",
       "      <th>...</th>\n",
       "      <th>QuantileLoss[0.75]</th>\n",
       "      <th>Coverage[0.75]</th>\n",
       "      <th>QuantileLoss[0.8]</th>\n",
       "      <th>Coverage[0.8]</th>\n",
       "      <th>QuantileLoss[0.85]</th>\n",
       "      <th>Coverage[0.85]</th>\n",
       "      <th>QuantileLoss[0.9]</th>\n",
       "      <th>Coverage[0.9]</th>\n",
       "      <th>QuantileLoss[0.95]</th>\n",
       "      <th>Coverage[0.95]</th>\n",
       "    </tr>\n",
       "  </thead>\n",
       "  <tbody>\n",
       "    <tr>\n",
       "      <th>0</th>\n",
       "      <td>0</td>\n",
       "      <td>2008-06-15 17:00</td>\n",
       "      <td>0.000004</td>\n",
       "      <td>0.034552</td>\n",
       "      <td>0.388133</td>\n",
       "      <td>0.016172</td>\n",
       "      <td>0.008013</td>\n",
       "      <td>0.179665</td>\n",
       "      <td>0.125543</td>\n",
       "      <td>0.119947</td>\n",
       "      <td>...</td>\n",
       "      <td>0.034046</td>\n",
       "      <td>0.875000</td>\n",
       "      <td>0.031883</td>\n",
       "      <td>0.875000</td>\n",
       "      <td>0.026550</td>\n",
       "      <td>0.875000</td>\n",
       "      <td>0.021096</td>\n",
       "      <td>0.916667</td>\n",
       "      <td>0.014187</td>\n",
       "      <td>0.916667</td>\n",
       "    </tr>\n",
       "    <tr>\n",
       "      <th>1</th>\n",
       "      <td>1</td>\n",
       "      <td>2008-06-15 17:00</td>\n",
       "      <td>0.000127</td>\n",
       "      <td>0.198269</td>\n",
       "      <td>2.024383</td>\n",
       "      <td>0.084349</td>\n",
       "      <td>0.015693</td>\n",
       "      <td>0.526439</td>\n",
       "      <td>0.107804</td>\n",
       "      <td>0.100386</td>\n",
       "      <td>...</td>\n",
       "      <td>0.177594</td>\n",
       "      <td>0.958333</td>\n",
       "      <td>0.157897</td>\n",
       "      <td>0.958333</td>\n",
       "      <td>0.130043</td>\n",
       "      <td>1.000000</td>\n",
       "      <td>0.101499</td>\n",
       "      <td>1.000000</td>\n",
       "      <td>0.066363</td>\n",
       "      <td>1.000000</td>\n",
       "    </tr>\n",
       "    <tr>\n",
       "      <th>2</th>\n",
       "      <td>2</td>\n",
       "      <td>2008-06-15 17:00</td>\n",
       "      <td>0.000009</td>\n",
       "      <td>0.047943</td>\n",
       "      <td>0.939867</td>\n",
       "      <td>0.039161</td>\n",
       "      <td>0.015918</td>\n",
       "      <td>0.125491</td>\n",
       "      <td>0.052034</td>\n",
       "      <td>0.053579</td>\n",
       "      <td>...</td>\n",
       "      <td>0.041042</td>\n",
       "      <td>0.833333</td>\n",
       "      <td>0.040401</td>\n",
       "      <td>0.833333</td>\n",
       "      <td>0.031766</td>\n",
       "      <td>0.833333</td>\n",
       "      <td>0.022618</td>\n",
       "      <td>0.916667</td>\n",
       "      <td>0.016405</td>\n",
       "      <td>1.000000</td>\n",
       "    </tr>\n",
       "    <tr>\n",
       "      <th>3</th>\n",
       "      <td>3</td>\n",
       "      <td>2008-06-15 17:00</td>\n",
       "      <td>0.000011</td>\n",
       "      <td>0.061919</td>\n",
       "      <td>0.828967</td>\n",
       "      <td>0.034540</td>\n",
       "      <td>0.009018</td>\n",
       "      <td>0.286077</td>\n",
       "      <td>0.126388</td>\n",
       "      <td>0.114263</td>\n",
       "      <td>...</td>\n",
       "      <td>0.057689</td>\n",
       "      <td>0.958333</td>\n",
       "      <td>0.054604</td>\n",
       "      <td>1.000000</td>\n",
       "      <td>0.048398</td>\n",
       "      <td>1.000000</td>\n",
       "      <td>0.038858</td>\n",
       "      <td>1.000000</td>\n",
       "      <td>0.025482</td>\n",
       "      <td>1.000000</td>\n",
       "    </tr>\n",
       "    <tr>\n",
       "      <th>4</th>\n",
       "      <td>4</td>\n",
       "      <td>2008-06-15 17:00</td>\n",
       "      <td>0.000034</td>\n",
       "      <td>0.100243</td>\n",
       "      <td>1.114800</td>\n",
       "      <td>0.046450</td>\n",
       "      <td>0.010359</td>\n",
       "      <td>0.403205</td>\n",
       "      <td>0.094602</td>\n",
       "      <td>0.089594</td>\n",
       "      <td>...</td>\n",
       "      <td>0.080502</td>\n",
       "      <td>1.000000</td>\n",
       "      <td>0.076829</td>\n",
       "      <td>1.000000</td>\n",
       "      <td>0.067634</td>\n",
       "      <td>1.000000</td>\n",
       "      <td>0.056534</td>\n",
       "      <td>1.000000</td>\n",
       "      <td>0.036797</td>\n",
       "      <td>1.000000</td>\n",
       "    </tr>\n",
       "  </tbody>\n",
       "</table>\n",
       "<p>5 rows × 51 columns</p>\n",
       "</div>"
      ],
      "text/plain": [
       "  item_id    forecast_start       MSE  abs_error  abs_target_sum  \\\n",
       "0       0  2008-06-15 17:00  0.000004   0.034552        0.388133   \n",
       "1       1  2008-06-15 17:00  0.000127   0.198269        2.024383   \n",
       "2       2  2008-06-15 17:00  0.000009   0.047943        0.939867   \n",
       "3       3  2008-06-15 17:00  0.000011   0.061919        0.828967   \n",
       "4       4  2008-06-15 17:00  0.000034   0.100243        1.114800   \n",
       "\n",
       "   abs_target_mean  seasonal_error      MASE      MAPE     sMAPE  ...  \\\n",
       "0         0.016172        0.008013  0.179665  0.125543  0.119947  ...   \n",
       "1         0.084349        0.015693  0.526439  0.107804  0.100386  ...   \n",
       "2         0.039161        0.015918  0.125491  0.052034  0.053579  ...   \n",
       "3         0.034540        0.009018  0.286077  0.126388  0.114263  ...   \n",
       "4         0.046450        0.010359  0.403205  0.094602  0.089594  ...   \n",
       "\n",
       "   QuantileLoss[0.75]  Coverage[0.75]  QuantileLoss[0.8]  Coverage[0.8]  \\\n",
       "0            0.034046        0.875000           0.031883       0.875000   \n",
       "1            0.177594        0.958333           0.157897       0.958333   \n",
       "2            0.041042        0.833333           0.040401       0.833333   \n",
       "3            0.057689        0.958333           0.054604       1.000000   \n",
       "4            0.080502        1.000000           0.076829       1.000000   \n",
       "\n",
       "   QuantileLoss[0.85]  Coverage[0.85]  QuantileLoss[0.9]  Coverage[0.9]  \\\n",
       "0            0.026550        0.875000           0.021096       0.916667   \n",
       "1            0.130043        1.000000           0.101499       1.000000   \n",
       "2            0.031766        0.833333           0.022618       0.916667   \n",
       "3            0.048398        1.000000           0.038858       1.000000   \n",
       "4            0.067634        1.000000           0.056534       1.000000   \n",
       "\n",
       "   QuantileLoss[0.95]  Coverage[0.95]  \n",
       "0            0.014187        0.916667  \n",
       "1            0.066363        1.000000  \n",
       "2            0.016405        1.000000  \n",
       "3            0.025482        1.000000  \n",
       "4            0.036797        1.000000  \n",
       "\n",
       "[5 rows x 51 columns]"
      ]
     },
     "execution_count": 40,
     "metadata": {},
     "output_type": "execute_result"
    }
   ],
   "source": [
    "item_metrics.head()"
   ]
  },
  {
   "cell_type": "code",
   "execution_count": 41,
   "id": "d333a906",
   "metadata": {
    "tags": []
   },
   "outputs": [
    {
     "data": {
      "image/png": "[encoded data removed]",
      "text/plain": [
       "<Figure size 640x480 with 1 Axes>"
      ]
     },
     "metadata": {},
     "output_type": "display_data"
    }
   ],
   "source": [
    "item_metrics.plot(x=\"MSIS\", y=\"MASE\", kind=\"scatter\")\n",
    "plt.grid(which=\"both\")\n",
    "plt.show()"
   ]
  }
 ],
 "metadata": {
  "kernelspec": {
   "display_name": "Python 3 (ipykernel)",
   "language": "python",
   "name": "python3"
  },
  "language_info": {
   "codemirror_mode": {
    "name": "ipython",
    "version": 3
   },
   "file_extension": ".py",
   "mimetype": "text/x-python",
   "name": "python",
   "nbconvert_exporter": "python",
   "pygments_lexer": "ipython3",
   "version": "3.9.4"
  }
 },
 "nbformat": 4,
 "nbformat_minor": 5
}
